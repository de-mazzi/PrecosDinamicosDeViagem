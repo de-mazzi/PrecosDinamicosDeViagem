{
 "cells": [
  {
   "cell_type": "code",
   "execution_count": 1,
   "metadata": {},
   "outputs": [
    {
     "name": "stdout",
     "output_type": "stream",
     "text": [
      "Preço baseado no horario apenas: R$ 20.9\n",
      "Preço somando a demanda de carros e horario: R$ 29.26\n",
      "Preço somando a demanda de carros, horario e dia da semana: R$ 38.04\n"
     ]
    }
   ],
   "source": [
    "\n",
    "def precoHorario(horario,precoAtual):\n",
    "    if horario >= 600 and horario < 1100:\n",
    "        multiplicador = 1.2\n",
    "    elif horario >= 1100 and horario <= 1300:\n",
    "        multiplicador = 1.4\n",
    "    elif horario > 1300 and horario < 1700:\n",
    "        multiplicador = 1.05\n",
    "    elif horario >= 1700 and horario <= 2100:\n",
    "        multiplicador = 1.55\n",
    "    elif horario > 2100 and horario <= 0000:\n",
    "        multiplicador = 1.6\n",
    "    elif horario > 0000 and horario < 600:\n",
    "        multiplicador = 1.9\n",
    "    else:\n",
    "        print(\"Horario nao válido\")\n",
    "    precoAtual = precoAtual * multiplicador\n",
    "    return precoAtual\n",
    "\n",
    "\n",
    "def precoDemanda(demanda,precoAtual):\n",
    "    if demanda == 2:\n",
    "        multiplicador = 1.4\n",
    "    elif demanda == 3:\n",
    "        multiplicador = 1.2\n",
    "    elif demanda == 4:\n",
    "        multiplicador = 1\n",
    "    elif demanda == 1:\n",
    "        multiplicador = 2\n",
    "    else:\n",
    "        print(\"Escolha nao válida\")\n",
    "    precoAtual = precoAtual * multiplicador\n",
    "    return precoAtual\n",
    "\n",
    "\n",
    "def precoDia(diaSemana,precoAtual):\n",
    "    if diaSemana == 1:\n",
    "        multiplicador = 1.3\n",
    "    elif diaSemana == 2:\n",
    "        multiplicador = 1\n",
    "    else:\n",
    "        print(\"Escolha nao válida\")\n",
    "    precoAtual = precoAtual * multiplicador\n",
    "    return precoAtual\n",
    "\n",
    "\n",
    "distancia = int(input(\"Distancia em km\"))\n",
    "precoDistanciaPadrao = distancia * 1.1\n",
    "horario = int(input(\"Digite as horas sem pontuacao. EX - '0700' = 7:00\"))\n",
    "\n",
    "precoAtual = precoHorario(horario,precoDistanciaPadrao)\n",
    "print(\"Preço baseado no horario apenas: R$\",round(precoAtual,2))\n",
    "\n",
    "demanda = int(input(\"Digite a quantidade de carros proximos a voce. 1- Muito Baixa / 2- Baixa / 3- Media / 4- Alta\"))\n",
    "precoAtual = precoDemanda(demanda,precoAtual)\n",
    "print(\"Preço somando a demanda de carros e horario: R$\",round(precoAtual,2))\n",
    "\n",
    "diaSemana = int(input(\"Voce esta em fim de semana? 1- Sim / 2- Nao\"))\n",
    "precoAtual = precoDia(diaSemana,precoAtual)\n",
    "print(\"Preço somando a demanda de carros, horario e dia da semana: R$\",round(precoAtual,2))"
   ]
  }
 ],
 "metadata": {
  "interpreter": {
   "hash": "3820713c4ce14279adde2f59f517c93801aa824bab34cea9bd13d5e63001b253"
  },
  "kernelspec": {
   "display_name": "Python 3.11.0 64-bit",
   "language": "python",
   "name": "python3"
  },
  "language_info": {
   "codemirror_mode": {
    "name": "ipython",
    "version": 3
   },
   "file_extension": ".py",
   "mimetype": "text/x-python",
   "name": "python",
   "nbconvert_exporter": "python",
   "pygments_lexer": "ipython3",
   "version": "3.11.0"
  },
  "orig_nbformat": 4
 },
 "nbformat": 4,
 "nbformat_minor": 2
}
